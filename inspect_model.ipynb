{
 "cells": [
  {
   "cell_type": "code",
   "execution_count": 1,
   "metadata": {
    "collapsed": false,
    "jupyter": {
     "outputs_hidden": false
    },
    "ExecuteTime": {
     "end_time": "2024-05-15T08:28:54.236546Z",
     "start_time": "2024-05-15T08:28:54.202713Z"
    }
   },
   "outputs": [],
   "source": [
    "%load_ext autoreload\n",
    "%autoreload 2"
   ]
  },
  {
   "cell_type": "code",
   "execution_count": 2,
   "metadata": {
    "ExecuteTime": {
     "end_time": "2024-05-15T08:29:00.226324Z",
     "start_time": "2024-05-15T08:28:54.327843Z"
    }
   },
   "outputs": [],
   "source": [
    "from utils.utils import FullModel\n",
    "import torch\n",
    "from utils.criterion import OhemCrossEntropy, BoundaryLoss\n",
    "import models\n",
    "from configs import config\n",
    "from models.pidnet import PIDNet\n",
    "\n",
    "model = PIDNet(\n",
    "    m=2, n=3, num_classes=1, planes=32, ppm_planes=96, head_planes=128, augment=False, scale_factor=None\n",
    ")"
   ]
  },
  {
   "cell_type": "code",
   "execution_count": 3,
   "metadata": {
    "collapsed": false,
    "jupyter": {
     "outputs_hidden": false
    },
    "ExecuteTime": {
     "end_time": "2024-05-15T08:29:00.268001Z",
     "start_time": "2024-05-15T08:29:00.223235Z"
    }
   },
   "outputs": [],
   "source": [
    "from torchinfo import summary"
   ]
  },
  {
   "cell_type": "code",
   "execution_count": 4,
   "metadata": {
    "ExecuteTime": {
     "end_time": "2024-05-15T08:29:02.870779Z",
     "start_time": "2024-05-15T08:29:00.269400Z"
    }
   },
   "outputs": [],
   "source": [
    "input = torch.randn((2, 3, 1024, 1024))\n",
    "output = model(input)"
   ]
  },
  {
   "cell_type": "code",
   "execution_count": 5,
   "metadata": {
    "ExecuteTime": {
     "end_time": "2024-05-15T08:29:02.918130Z",
     "start_time": "2024-05-15T08:29:02.873413Z"
    }
   },
   "outputs": [
    {
     "data": {
      "text/plain": "torch.Size([2, 1, 128, 128])"
     },
     "execution_count": 5,
     "metadata": {},
     "output_type": "execute_result"
    }
   ],
   "source": [
    "output.size()"
   ]
  },
  {
   "cell_type": "code",
   "execution_count": 6,
   "metadata": {
    "collapsed": false,
    "jupyter": {
     "outputs_hidden": false
    },
    "ExecuteTime": {
     "end_time": "2024-05-15T08:29:02.985540Z",
     "start_time": "2024-05-15T08:29:02.918770Z"
    }
   },
   "outputs": [
    {
     "data": {
      "text/plain": "=================================================================\nLayer (type:depth-idx)                   Param #\n=================================================================\nPIDNet                                   --\n├─Sequential: 1-1                        --\n│    └─Conv2d: 2-1                       896\n│    └─BatchNorm2d: 2-2                  64\n│    └─ReLU: 2-3                         --\n│    └─Conv2d: 2-4                       9,248\n│    └─BatchNorm2d: 2-5                  64\n│    └─ReLU: 2-6                         --\n├─ReLU: 1-2                              --\n├─Sequential: 1-3                        --\n│    └─BasicBlock: 2-7                   --\n│    │    └─Conv2d: 3-1                  9,216\n│    │    └─BatchNorm2d: 3-2             64\n│    │    └─ReLU: 3-3                    --\n│    │    └─Conv2d: 3-4                  9,216\n│    │    └─BatchNorm2d: 3-5             64\n│    └─BasicBlock: 2-8                   --\n│    │    └─Conv2d: 3-6                  9,216\n│    │    └─BatchNorm2d: 3-7             64\n│    │    └─ReLU: 3-8                    --\n│    │    └─Conv2d: 3-9                  9,216\n│    │    └─BatchNorm2d: 3-10            64\n├─Sequential: 1-4                        --\n│    └─BasicBlock: 2-9                   --\n│    │    └─Conv2d: 3-11                 18,432\n│    │    └─BatchNorm2d: 3-12            128\n│    │    └─ReLU: 3-13                   --\n│    │    └─Conv2d: 3-14                 36,864\n│    │    └─BatchNorm2d: 3-15            128\n│    │    └─Sequential: 3-16             2,176\n│    └─BasicBlock: 2-10                  --\n│    │    └─Conv2d: 3-17                 36,864\n│    │    └─BatchNorm2d: 3-18            128\n│    │    └─ReLU: 3-19                   --\n│    │    └─Conv2d: 3-20                 36,864\n│    │    └─BatchNorm2d: 3-21            128\n├─Sequential: 1-5                        --\n│    └─BasicBlock: 2-11                  --\n│    │    └─Conv2d: 3-22                 73,728\n│    │    └─BatchNorm2d: 3-23            256\n│    │    └─ReLU: 3-24                   --\n│    │    └─Conv2d: 3-25                 147,456\n│    │    └─BatchNorm2d: 3-26            256\n│    │    └─Sequential: 3-27             8,448\n│    └─BasicBlock: 2-12                  --\n│    │    └─Conv2d: 3-28                 147,456\n│    │    └─BatchNorm2d: 3-29            256\n│    │    └─ReLU: 3-30                   --\n│    │    └─Conv2d: 3-31                 147,456\n│    │    └─BatchNorm2d: 3-32            256\n│    └─BasicBlock: 2-13                  --\n│    │    └─Conv2d: 3-33                 147,456\n│    │    └─BatchNorm2d: 3-34            256\n│    │    └─ReLU: 3-35                   --\n│    │    └─Conv2d: 3-36                 147,456\n│    │    └─BatchNorm2d: 3-37            256\n├─Sequential: 1-6                        --\n│    └─BasicBlock: 2-14                  --\n│    │    └─Conv2d: 3-38                 294,912\n│    │    └─BatchNorm2d: 3-39            512\n│    │    └─ReLU: 3-40                   --\n│    │    └─Conv2d: 3-41                 589,824\n│    │    └─BatchNorm2d: 3-42            512\n│    │    └─Sequential: 3-43             33,280\n│    └─BasicBlock: 2-15                  --\n│    │    └─Conv2d: 3-44                 589,824\n│    │    └─BatchNorm2d: 3-45            512\n│    │    └─ReLU: 3-46                   --\n│    │    └─Conv2d: 3-47                 589,824\n│    │    └─BatchNorm2d: 3-48            512\n│    └─BasicBlock: 2-16                  --\n│    │    └─Conv2d: 3-49                 589,824\n│    │    └─BatchNorm2d: 3-50            512\n│    │    └─ReLU: 3-51                   --\n│    │    └─Conv2d: 3-52                 589,824\n│    │    └─BatchNorm2d: 3-53            512\n├─Sequential: 1-7                        --\n│    └─Bottleneck: 2-17                  --\n│    │    └─Conv2d: 3-54                 65,536\n│    │    └─BatchNorm2d: 3-55            512\n│    │    └─Conv2d: 3-56                 589,824\n│    │    └─BatchNorm2d: 3-57            512\n│    │    └─Conv2d: 3-58                 131,072\n│    │    └─BatchNorm2d: 3-59            1,024\n│    │    └─ReLU: 3-60                   --\n│    │    └─Sequential: 3-61             132,096\n│    └─Bottleneck: 2-18                  --\n│    │    └─Conv2d: 3-62                 131,072\n│    │    └─BatchNorm2d: 3-63            512\n│    │    └─Conv2d: 3-64                 589,824\n│    │    └─BatchNorm2d: 3-65            512\n│    │    └─Conv2d: 3-66                 131,072\n│    │    └─BatchNorm2d: 3-67            1,024\n│    │    └─ReLU: 3-68                   --\n├─Sequential: 1-8                        --\n│    └─Conv2d: 2-19                      8,192\n│    └─BatchNorm2d: 2-20                 128\n├─Sequential: 1-9                        --\n│    └─Conv2d: 2-21                      16,384\n│    └─BatchNorm2d: 2-22                 128\n├─PagFM: 1-10                            --\n│    └─Sequential: 2-23                  --\n│    │    └─Conv2d: 3-69                 2,048\n│    │    └─BatchNorm2d: 3-70            64\n│    └─Sequential: 2-24                  --\n│    │    └─Conv2d: 3-71                 2,048\n│    │    └─BatchNorm2d: 3-72            64\n├─PagFM: 1-11                            --\n│    └─Sequential: 2-25                  --\n│    │    └─Conv2d: 3-73                 2,048\n│    │    └─BatchNorm2d: 3-74            64\n│    └─Sequential: 2-26                  --\n│    │    └─Conv2d: 3-75                 2,048\n│    │    └─BatchNorm2d: 3-76            64\n├─Sequential: 1-12                       --\n│    └─BasicBlock: 2-27                  --\n│    │    └─Conv2d: 3-77                 36,864\n│    │    └─BatchNorm2d: 3-78            128\n│    │    └─ReLU: 3-79                   --\n│    │    └─Conv2d: 3-80                 36,864\n│    │    └─BatchNorm2d: 3-81            128\n│    └─BasicBlock: 2-28                  --\n│    │    └─Conv2d: 3-82                 36,864\n│    │    └─BatchNorm2d: 3-83            128\n│    │    └─ReLU: 3-84                   --\n│    │    └─Conv2d: 3-85                 36,864\n│    │    └─BatchNorm2d: 3-86            128\n├─Sequential: 1-13                       --\n│    └─BasicBlock: 2-29                  --\n│    │    └─Conv2d: 3-87                 36,864\n│    │    └─BatchNorm2d: 3-88            128\n│    │    └─ReLU: 3-89                   --\n│    │    └─Conv2d: 3-90                 36,864\n│    │    └─BatchNorm2d: 3-91            128\n│    └─BasicBlock: 2-30                  --\n│    │    └─Conv2d: 3-92                 36,864\n│    │    └─BatchNorm2d: 3-93            128\n│    │    └─ReLU: 3-94                   --\n│    │    └─Conv2d: 3-95                 36,864\n│    │    └─BatchNorm2d: 3-96            128\n├─Sequential: 1-14                       --\n│    └─Bottleneck: 2-31                  --\n│    │    └─Conv2d: 3-97                 4,096\n│    │    └─BatchNorm2d: 3-98            128\n│    │    └─Conv2d: 3-99                 36,864\n│    │    └─BatchNorm2d: 3-100           128\n│    │    └─Conv2d: 3-101                8,192\n│    │    └─BatchNorm2d: 3-102           256\n│    │    └─ReLU: 3-103                  --\n│    │    └─Sequential: 3-104            8,448\n├─BasicBlock: 1-15                       --\n│    └─Conv2d: 2-32                      18,432\n│    └─BatchNorm2d: 2-33                 64\n│    └─ReLU: 2-34                        --\n│    └─Conv2d: 2-35                      9,216\n│    └─BatchNorm2d: 2-36                 64\n│    └─Sequential: 2-37                  --\n│    │    └─Conv2d: 3-105                2,048\n│    │    └─BatchNorm2d: 3-106           64\n├─Sequential: 1-16                       --\n│    └─Bottleneck: 2-38                  --\n│    │    └─Conv2d: 3-107                1,024\n│    │    └─BatchNorm2d: 3-108           64\n│    │    └─Conv2d: 3-109                9,216\n│    │    └─BatchNorm2d: 3-110           64\n│    │    └─Conv2d: 3-111                2,048\n│    │    └─BatchNorm2d: 3-112           128\n│    │    └─ReLU: 3-113                  --\n│    │    └─Sequential: 3-114            2,176\n├─Sequential: 1-17                       --\n│    └─Conv2d: 2-39                      36,864\n│    └─BatchNorm2d: 2-40                 64\n├─Sequential: 1-18                       --\n│    └─Conv2d: 2-41                      147,456\n│    └─BatchNorm2d: 2-42                 128\n├─PAPPM: 1-19                            --\n│    └─Sequential: 2-43                  --\n│    │    └─AvgPool2d: 3-115             --\n│    │    └─BatchNorm2d: 3-116           1,024\n│    │    └─ReLU: 3-117                  --\n│    │    └─Conv2d: 3-118                49,152\n│    └─Sequential: 2-44                  --\n│    │    └─AvgPool2d: 3-119             --\n│    │    └─BatchNorm2d: 3-120           1,024\n│    │    └─ReLU: 3-121                  --\n│    │    └─Conv2d: 3-122                49,152\n│    └─Sequential: 2-45                  --\n│    │    └─AvgPool2d: 3-123             --\n│    │    └─BatchNorm2d: 3-124           1,024\n│    │    └─ReLU: 3-125                  --\n│    │    └─Conv2d: 3-126                49,152\n│    └─Sequential: 2-46                  --\n│    │    └─AdaptiveAvgPool2d: 3-127     --\n│    │    └─BatchNorm2d: 3-128           1,024\n│    │    └─ReLU: 3-129                  --\n│    │    └─Conv2d: 3-130                49,152\n│    └─Sequential: 2-47                  --\n│    │    └─BatchNorm2d: 3-131           1,024\n│    │    └─ReLU: 3-132                  --\n│    │    └─Conv2d: 3-133                49,152\n│    └─Sequential: 2-48                  --\n│    │    └─BatchNorm2d: 3-134           768\n│    │    └─ReLU: 3-135                  --\n│    │    └─Conv2d: 3-136                331,776\n│    └─Sequential: 2-49                  --\n│    │    └─BatchNorm2d: 3-137           960\n│    │    └─ReLU: 3-138                  --\n│    │    └─Conv2d: 3-139                61,440\n│    └─Sequential: 2-50                  --\n│    │    └─BatchNorm2d: 3-140           1,024\n│    │    └─ReLU: 3-141                  --\n│    │    └─Conv2d: 3-142                65,536\n├─Light_Bag: 1-20                        --\n│    └─Sequential: 2-51                  --\n│    │    └─Conv2d: 3-143                16,384\n│    │    └─BatchNorm2d: 3-144           256\n│    └─Sequential: 2-52                  --\n│    │    └─Conv2d: 3-145                16,384\n│    │    └─BatchNorm2d: 3-146           256\n├─Sequential: 1-21                       --\n│    └─Bottleneck: 2-53                  --\n│    │    └─Conv2d: 3-147                4,096\n│    │    └─BatchNorm2d: 3-148           128\n│    │    └─Conv2d: 3-149                36,864\n│    │    └─BatchNorm2d: 3-150           128\n│    │    └─Conv2d: 3-151                8,192\n│    │    └─BatchNorm2d: 3-152           256\n│    │    └─ReLU: 3-153                  --\n│    │    └─Sequential: 3-154            8,448\n├─segmenthead: 1-22                      --\n│    └─BatchNorm2d: 2-54                 256\n│    └─Conv2d: 2-55                      147,456\n│    └─BatchNorm2d: 2-56                 256\n│    └─ReLU: 2-57                        --\n│    └─Conv2d: 2-58                      129\n=================================================================\nTotal params: 7,623,393\nTrainable params: 7,623,393\nNon-trainable params: 0\n================================================================="
     },
     "execution_count": 6,
     "metadata": {},
     "output_type": "execute_result"
    }
   ],
   "source": [
    "summary(model)"
   ]
  },
  {
   "cell_type": "code",
   "execution_count": null,
   "metadata": {},
   "outputs": [],
   "source": []
  }
 ],
 "metadata": {
  "kernelspec": {
   "display_name": "Python 3 (ipykernel)",
   "language": "python",
   "name": "python3"
  },
  "language_info": {
   "codemirror_mode": {
    "name": "ipython",
    "version": 3
   },
   "file_extension": ".py",
   "mimetype": "text/x-python",
   "name": "python",
   "nbconvert_exporter": "python",
   "pygments_lexer": "ipython3",
   "version": "3.8.10"
  }
 },
 "nbformat": 4,
 "nbformat_minor": 4
}
