{
 "cells": [
  {
   "cell_type": "code",
   "execution_count": 1,
   "outputs": [],
   "source": [
    "%load_ext autoreload\n",
    "%autoreload 2"
   ],
   "metadata": {
    "collapsed": false,
    "ExecuteTime": {
     "end_time": "2024-05-07T08:09:15.833230Z",
     "start_time": "2024-05-07T08:09:15.811146Z"
    }
   }
  },
  {
   "cell_type": "code",
   "execution_count": 2,
   "metadata": {
    "collapsed": true,
    "ExecuteTime": {
     "end_time": "2024-05-07T08:09:51.715694Z",
     "start_time": "2024-05-07T08:09:19.929439Z"
    }
   },
   "outputs": [],
   "source": [
    "from utils.utils import FullModel\n",
    "import torch\n",
    "from utils.criterion import OhemCrossEntropy, BoundaryLoss\n",
    "import models\n",
    "from configs import config\n",
    "\n",
    "pidnet = models.pidnet.get_seg_model(config, scale_factor=None, pretrained=False)  # creates a pretrained model by default\n",
    "semantic_seg_criterion = OhemCrossEntropy(\n",
    "    ignore_label=255,\n",
    "    thres=0.9,\n",
    "    min_kept=int(0.125 * (1024 ** 2)),\n",
    "    weight=torch.FloatTensor([1.0186, 54.7257])\n",
    ")\n",
    "bd_criterion = BoundaryLoss()\n",
    "model = FullModel(pidnet, semantic_seg_criterion, bd_criterion).model.eval()"
   ]
  },
  {
   "cell_type": "code",
   "execution_count": 4,
   "outputs": [],
   "source": [
    "from torchinfo import summary"
   ],
   "metadata": {
    "collapsed": false,
    "ExecuteTime": {
     "end_time": "2024-05-07T08:10:09.211191Z",
     "start_time": "2024-05-07T08:10:09.157081Z"
    }
   }
  },
  {
   "cell_type": "code",
   "execution_count": null,
   "outputs": [],
   "source": [
    "summary(model, input_size=(1, 3, 32, 32))"
   ],
   "metadata": {
    "collapsed": false,
    "ExecuteTime": {
     "start_time": "2024-05-07T08:10:11.168445Z"
    }
   }
  }
 ],
 "metadata": {
  "kernelspec": {
   "display_name": "Python 3",
   "language": "python",
   "name": "python3"
  },
  "language_info": {
   "codemirror_mode": {
    "name": "ipython",
    "version": 2
   },
   "file_extension": ".py",
   "mimetype": "text/x-python",
   "name": "python",
   "nbconvert_exporter": "python",
   "pygments_lexer": "ipython2",
   "version": "2.7.6"
  }
 },
 "nbformat": 4,
 "nbformat_minor": 0
}
