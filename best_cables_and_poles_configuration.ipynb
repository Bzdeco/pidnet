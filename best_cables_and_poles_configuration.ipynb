{
 "cells": [
  {
   "cell_type": "code",
   "execution_count": 1,
   "metadata": {
    "collapsed": true,
    "ExecuteTime": {
     "end_time": "2024-06-22T10:45:08.341555Z",
     "start_time": "2024-06-22T10:44:38.937529Z"
    }
   },
   "outputs": [
    {
     "name": "stdout",
     "output_type": "stream",
     "text": [
      "https://app.neptune.ai/jakubg/powerlines/e/POW-8024\n"
     ]
    }
   ],
   "source": [
    "from powerlines.hpo import fetch_run\n",
    "\n",
    "run = fetch_run(\"jakubg/powerlines\", 8024)"
   ]
  },
  {
   "cell_type": "code",
   "execution_count": 4,
   "outputs": [],
   "source": [
    "import numpy as np\n",
    "\n",
    "trials = run[\"trials\"].fetch()\n",
    "\n",
    "best_result_trial_id = None\n",
    "best_result = -np.inf\n",
    "\n",
    "trial_ids = []\n",
    "results = []\n",
    "results_cables = []\n",
    "results_poles = []\n",
    "\n",
    "for trial_id, details in trials.items():\n",
    "    result = details.get(\"result\", None)\n",
    "    if result is not None:\n",
    "        trial_ids.append(trial_id)\n",
    "        results.append(result)\n",
    "        results_cables.append(details.get(\"result_cables\"))\n",
    "        results_poles.append(details.get(\"result_poles\"))\n",
    "\n",
    "trial_ids = np.asarray(trial_ids)\n",
    "results = np.asarray(results)\n",
    "results_cables = np.asarray(results_cables)\n",
    "results_poles = np.asarray(results_poles)\n",
    "\n",
    "indices = np.argsort(results)\n",
    "sorted_trial_ids = trial_ids[indices]\n",
    "sorted_results = results[indices]\n",
    "sorted_results_cables = results_cables[indices]\n",
    "sorted_results_poles = results_poles[indices]"
   ],
   "metadata": {
    "collapsed": false,
    "ExecuteTime": {
     "end_time": "2024-06-22T10:47:21.134353Z",
     "start_time": "2024-06-22T10:47:21.009187Z"
    }
   }
  },
  {
   "cell_type": "code",
   "execution_count": 9,
   "outputs": [
    {
     "data": {
      "text/plain": "('48', 0.6234501277298474, 0.6585362211719593, 0.5883640342877355)"
     },
     "execution_count": 9,
     "metadata": {},
     "output_type": "execute_result"
    }
   ],
   "source": [
    "sorted_trial_ids[-1], sorted_results[-1], sorted_results_cables[-1], sorted_results_poles[-1]"
   ],
   "metadata": {
    "collapsed": false,
    "ExecuteTime": {
     "end_time": "2024-06-22T10:48:42.578552Z",
     "start_time": "2024-06-22T10:48:42.572255Z"
    }
   }
  },
  {
   "cell_type": "code",
   "execution_count": 5,
   "outputs": [
    {
     "data": {
      "text/plain": "array(['139', '108', '167', '80', '26', '55', '83', '93', '163', '151',\n       '110', '37', '23', '121', '38', '69', '41', '52', '150', '10', '0',\n       '51', '125', '12', '66', '136', '95', '65', '149', '11', '123',\n       '107', '8', '56', '135', '81', '154', '24', '40', '27', '68', '94',\n       '116', '114', '57', '3', '158', '58', '111', '166', '138', '113',\n       '164', '79', '89', '122', '117', '128', '87', '19', '21', '144',\n       '18', '5', '98', '47', '59', '4', '74', '141', '170', '17', '99',\n       '39', '13', '2', '60', '33', '46', '30', '130', '127', '31', '67',\n       '131', '88', '44', '102', '86', '159', '171', '71', '129', '78',\n       '28', '103', '15', '29', '156', '63', '1', '172', '61', '119',\n       '72', '157', '36', '146', '16', '115', '148', '100', '25', '7',\n       '133', '173', '143', '142', '32', '169', '43', '152', '155', '101',\n       '145', '153', '147', '91', '34', '168', '62', '85', '77', '45',\n       '54', '64', '126', '134', '140', '137', '9', '160', '70', '20',\n       '73', '162', '49', '42', '92', '84', '132', '106', '105', '161',\n       '165', '22', '90', '35', '14', '50', '104', '75', '124', '109',\n       '76', '6', '82', '97', '53', '112', '118', '174', '175', '96',\n       '120', '48'], dtype='<U3')"
     },
     "execution_count": 5,
     "metadata": {},
     "output_type": "execute_result"
    }
   ],
   "source": [
    "sorted_trial_ids"
   ],
   "metadata": {
    "collapsed": false,
    "ExecuteTime": {
     "end_time": "2024-06-22T10:47:22.046947Z",
     "start_time": "2024-06-22T10:47:22.027068Z"
    }
   }
  },
  {
   "cell_type": "code",
   "execution_count": null,
   "outputs": [],
   "source": [
    "# 102 has rather steady cables quality, 224 less so (and poles perf jump early)"
   ],
   "metadata": {
    "collapsed": false
   }
  },
  {
   "cell_type": "code",
   "execution_count": 15,
   "outputs": [
    {
     "data": {
      "text/plain": "(0.5986090444843144, '67')"
     },
     "execution_count": 15,
     "metadata": {},
     "output_type": "execute_result"
    }
   ],
   "source": [
    "# Has the best result average and also best result for cable detection\n",
    "best_result, best_result_trial_id"
   ],
   "metadata": {
    "collapsed": false,
    "ExecuteTime": {
     "end_time": "2024-06-04T10:13:57.807134Z",
     "start_time": "2024-06-04T10:13:57.794962Z"
    }
   }
  }
 ],
 "metadata": {
  "kernelspec": {
   "display_name": "Python 3",
   "language": "python",
   "name": "python3"
  },
  "language_info": {
   "codemirror_mode": {
    "name": "ipython",
    "version": 2
   },
   "file_extension": ".py",
   "mimetype": "text/x-python",
   "name": "python",
   "nbconvert_exporter": "python",
   "pygments_lexer": "ipython2",
   "version": "2.7.6"
  }
 },
 "nbformat": 4,
 "nbformat_minor": 0
}
