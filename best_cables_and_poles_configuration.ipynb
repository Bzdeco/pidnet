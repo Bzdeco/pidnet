{
 "cells": [
  {
   "cell_type": "code",
   "execution_count": 1,
   "metadata": {
    "collapsed": true,
    "ExecuteTime": {
     "end_time": "2024-06-22T11:14:04.133325Z",
     "start_time": "2024-06-22T11:13:58.068686Z"
    }
   },
   "outputs": [
    {
     "name": "stdout",
     "output_type": "stream",
     "text": [
      "https://app.neptune.ai/jakubg/powerlines/e/POW-8020\n"
     ]
    }
   ],
   "source": [
    "from powerlines.hpo import fetch_run\n",
    "\n",
    "run = fetch_run(\"jakubg/powerlines\", 8020)"
   ]
  },
  {
   "cell_type": "code",
   "execution_count": 2,
   "outputs": [],
   "source": [
    "import numpy as np\n",
    "\n",
    "trials = run[\"trials\"].fetch()\n",
    "\n",
    "best_result_trial_id = None\n",
    "best_result = -np.inf\n",
    "\n",
    "trial_ids = []\n",
    "results = []\n",
    "results_cables = []\n",
    "results_poles = []\n",
    "\n",
    "for trial_id, details in trials.items():\n",
    "    result = details.get(\"result\", None)\n",
    "    if result is not None:\n",
    "        trial_ids.append(trial_id)\n",
    "        results.append(result)\n",
    "        results_cables.append(details[\"result_cables\"])\n",
    "        results_poles.append(details[\"result_poles\"])\n",
    "\n",
    "trial_ids = np.asarray(trial_ids)\n",
    "results = np.asarray(results)\n",
    "results_cables = np.asarray(results_cables)\n",
    "results_poles = np.asarray(results_poles)\n",
    "\n",
    "indices = np.argsort(results)\n",
    "sorted_trial_ids = trial_ids[indices]\n",
    "sorted_results = results[indices]\n",
    "sorted_results_cables = results_cables[indices]\n",
    "sorted_results_poles = results_poles[indices]"
   ],
   "metadata": {
    "collapsed": false,
    "ExecuteTime": {
     "end_time": "2024-06-22T11:14:04.275158Z",
     "start_time": "2024-06-22T11:14:04.140082Z"
    }
   }
  },
  {
   "cell_type": "code",
   "execution_count": 3,
   "outputs": [
    {
     "data": {
      "text/plain": "('135', 0.6173176129732902, 0.6539210997779705, 0.5807141261686098)"
     },
     "execution_count": 3,
     "metadata": {},
     "output_type": "execute_result"
    }
   ],
   "source": [
    "sorted_trial_ids[-1], sorted_results[-1], sorted_results_cables[-1], sorted_results_poles[-1]"
   ],
   "metadata": {
    "collapsed": false,
    "ExecuteTime": {
     "end_time": "2024-06-22T11:14:17.305613Z",
     "start_time": "2024-06-22T11:14:17.277412Z"
    }
   }
  },
  {
   "cell_type": "code",
   "execution_count": 4,
   "outputs": [
    {
     "data": {
      "text/plain": "'123'"
     },
     "execution_count": 4,
     "metadata": {},
     "output_type": "execute_result"
    }
   ],
   "source": [
    "sorted_trial_ids[-2]"
   ],
   "metadata": {
    "collapsed": false,
    "ExecuteTime": {
     "end_time": "2024-06-22T11:15:59.968289Z",
     "start_time": "2024-06-22T11:15:59.958867Z"
    }
   }
  },
  {
   "cell_type": "code",
   "execution_count": null,
   "outputs": [],
   "source": [
    "# 102 has rather steady cables quality, 224 less so (and poles perf jump early)"
   ],
   "metadata": {
    "collapsed": false
   }
  },
  {
   "cell_type": "code",
   "execution_count": 15,
   "outputs": [
    {
     "data": {
      "text/plain": "(0.5986090444843144, '67')"
     },
     "execution_count": 15,
     "metadata": {},
     "output_type": "execute_result"
    }
   ],
   "source": [
    "# Has the best result average and also best result for cable detection\n",
    "best_result, best_result_trial_id"
   ],
   "metadata": {
    "collapsed": false,
    "ExecuteTime": {
     "end_time": "2024-06-04T10:13:57.807134Z",
     "start_time": "2024-06-04T10:13:57.794962Z"
    }
   }
  }
 ],
 "metadata": {
  "kernelspec": {
   "display_name": "Python 3",
   "language": "python",
   "name": "python3"
  },
  "language_info": {
   "codemirror_mode": {
    "name": "ipython",
    "version": 2
   },
   "file_extension": ".py",
   "mimetype": "text/x-python",
   "name": "python",
   "nbconvert_exporter": "python",
   "pygments_lexer": "ipython2",
   "version": "2.7.6"
  }
 },
 "nbformat": 4,
 "nbformat_minor": 0
}
