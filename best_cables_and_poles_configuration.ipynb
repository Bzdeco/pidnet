{
 "cells": [
  {
   "cell_type": "code",
   "execution_count": 1,
   "metadata": {
    "collapsed": true,
    "ExecuteTime": {
     "end_time": "2024-06-04T10:08:53.957734Z",
     "start_time": "2024-06-04T10:08:17.523581Z"
    }
   },
   "outputs": [
    {
     "name": "stdout",
     "output_type": "stream",
     "text": [
      "https://app.neptune.ai/jakubg/powerlines/e/POW-6316\n"
     ]
    }
   ],
   "source": [
    "from powerlines.hpo import fetch_run\n",
    "\n",
    "run = fetch_run(\"jakubg/powerlines\", 6316)"
   ]
  },
  {
   "cell_type": "code",
   "execution_count": 16,
   "outputs": [],
   "source": [
    "import numpy as np\n",
    "\n",
    "trials = run[\"trials\"].fetch()\n",
    "\n",
    "best_result_trial_id = None\n",
    "best_result = -np.inf\n",
    "\n",
    "for trial_id, details in trials.items():\n",
    "    result = details.get(\"result_poles\", 0.0)\n",
    "    if result > best_result:\n",
    "        best_result_trial_id = trial_id\n",
    "        best_result = result"
   ],
   "metadata": {
    "collapsed": false,
    "ExecuteTime": {
     "end_time": "2024-06-04T10:14:23.590612Z",
     "start_time": "2024-06-04T10:14:23.388001Z"
    }
   }
  },
  {
   "cell_type": "code",
   "execution_count": 15,
   "outputs": [
    {
     "data": {
      "text/plain": "(0.5986090444843144, '67')"
     },
     "execution_count": 15,
     "metadata": {},
     "output_type": "execute_result"
    }
   ],
   "source": [
    "# Has the best result average and also best result for cable detection\n",
    "best_result, best_result_trial_id"
   ],
   "metadata": {
    "collapsed": false,
    "ExecuteTime": {
     "end_time": "2024-06-04T10:13:57.807134Z",
     "start_time": "2024-06-04T10:13:57.794962Z"
    }
   }
  }
 ],
 "metadata": {
  "kernelspec": {
   "display_name": "Python 3",
   "language": "python",
   "name": "python3"
  },
  "language_info": {
   "codemirror_mode": {
    "name": "ipython",
    "version": 2
   },
   "file_extension": ".py",
   "mimetype": "text/x-python",
   "name": "python",
   "nbconvert_exporter": "python",
   "pygments_lexer": "ipython2",
   "version": "2.7.6"
  }
 },
 "nbformat": 4,
 "nbformat_minor": 0
}
