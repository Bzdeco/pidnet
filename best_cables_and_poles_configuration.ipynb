{
 "cells": [
  {
   "cell_type": "code",
   "execution_count": 1,
   "metadata": {
    "collapsed": true,
    "ExecuteTime": {
     "end_time": "2024-06-06T13:24:37.841581Z",
     "start_time": "2024-06-06T13:24:07.625107Z"
    }
   },
   "outputs": [
    {
     "name": "stdout",
     "output_type": "stream",
     "text": [
      "https://app.neptune.ai/jakubg/powerlines/e/POW-6316\n"
     ]
    }
   ],
   "source": [
    "from powerlines.hpo import fetch_run\n",
    "\n",
    "run = fetch_run(\"jakubg/powerlines\", 6316)"
   ]
  },
  {
   "cell_type": "code",
   "execution_count": 6,
   "outputs": [],
   "source": [
    "import numpy as np\n",
    "\n",
    "trials = run[\"trials\"].fetch()\n",
    "\n",
    "best_result_trial_id = None\n",
    "best_result = -np.inf\n",
    "\n",
    "trial_ids = []\n",
    "results = []\n",
    "for trial_id, details in trials.items():\n",
    "    result = details.get(\"result\", None)\n",
    "    if result is not None:\n",
    "        trial_ids.append(trial_id)\n",
    "        results.append(result)\n",
    "\n",
    "trial_ids = np.asarray(trial_ids)\n",
    "results = np.asarray(results)\n",
    "\n",
    "indices = np.argsort(results)\n",
    "sorted_trial_ids = trial_ids[indices]\n",
    "sorted_results = results[indices]"
   ],
   "metadata": {
    "collapsed": false,
    "ExecuteTime": {
     "end_time": "2024-06-06T13:28:17.778776Z",
     "start_time": "2024-06-06T13:28:17.535997Z"
    }
   }
  },
  {
   "cell_type": "code",
   "execution_count": 7,
   "outputs": [
    {
     "data": {
      "text/plain": "array(['61', '223', '28', '132', '103', '139', '107', '124', '169', '80',\n       '21', '226', '127', '10', '6', '43', '110', '1', '20', '41', '146',\n       '240', '27', '235', '181', '22', '213', '65', '8', '70', '9',\n       '221', '69', '128', '138', '11', '131', '219', '94', '217', '42',\n       '222', '52', '225', '145', '168', '165', '81', '79', '2', '112',\n       '0', '31', '60', '49', '153', '26', '238', '96', '125', '123',\n       '233', '51', '55', '54', '141', '220', '4', '82', '48', '92', '58',\n       '211', '38', '236', '68', '18', '232', '5', '129', '135', '218',\n       '230', '130', '35', '244', '19', '143', '53', '154', '15', '95',\n       '109', '228', '7', '134', '47', '12', '39', '137', '243', '229',\n       '23', '34', '231', '62', '152', '97', '93', '126', '16', '25',\n       '46', '3', '44', '140', '36', '166', '136', '33', '247', '149',\n       '239', '101', '40', '50', '57', '108', '59', '24', '63', '37',\n       '66', '245', '84', '215', '56', '71', '167', '45', '64', '17',\n       '142', '32', '227', '144', '102', '224', '67'], dtype='<U3')"
     },
     "execution_count": 7,
     "metadata": {},
     "output_type": "execute_result"
    }
   ],
   "source": [
    "sorted_trial_ids"
   ],
   "metadata": {
    "collapsed": false,
    "ExecuteTime": {
     "end_time": "2024-06-06T13:28:18.970945Z",
     "start_time": "2024-06-06T13:28:18.962947Z"
    }
   }
  },
  {
   "cell_type": "code",
   "execution_count": 8,
   "outputs": [
    {
     "data": {
      "text/plain": "array(['67', '224', '102', '144', '227', '32', '142', '17', '64', '45',\n       '167', '71', '56', '215', '84', '245', '66', '37', '63', '24',\n       '59', '108', '57', '50', '40', '101', '239', '149', '247', '33',\n       '136', '166', '36', '140', '44', '3', '46', '25', '16', '126',\n       '93', '97', '152', '62', '231', '34', '23', '229', '243', '137',\n       '39', '12', '47', '134', '7', '228', '109', '95', '15', '154',\n       '53', '143', '19', '244', '35', '130', '230', '218', '135', '129',\n       '5', '232', '18', '68', '236', '38', '211', '58', '92', '48', '82',\n       '4', '220', '141', '54', '55', '51', '233', '123', '125', '96',\n       '238', '26', '153', '49', '60', '31', '0', '112', '2', '79', '81',\n       '165', '168', '145', '225', '52', '222', '42', '217', '94', '219',\n       '131', '11', '138', '128', '69', '221', '9', '70', '8', '65',\n       '213', '22', '181', '235', '27', '240', '146', '41', '20', '1',\n       '110', '43', '6', '10', '127', '226', '21', '80', '169', '124',\n       '107', '139', '103', '132', '28', '223', '61'], dtype='<U3')"
     },
     "execution_count": 8,
     "metadata": {},
     "output_type": "execute_result"
    }
   ],
   "source": [
    "sorted_trial_ids[::-1]"
   ],
   "metadata": {
    "collapsed": false,
    "ExecuteTime": {
     "end_time": "2024-06-06T13:28:21.458451Z",
     "start_time": "2024-06-06T13:28:21.452696Z"
    }
   }
  },
  {
   "cell_type": "code",
   "execution_count": null,
   "outputs": [],
   "source": [
    "# 102 has rather steady cables quality, 224 less so (and poles perf jump early)"
   ],
   "metadata": {
    "collapsed": false
   }
  },
  {
   "cell_type": "code",
   "execution_count": 15,
   "outputs": [
    {
     "data": {
      "text/plain": "(0.5986090444843144, '67')"
     },
     "execution_count": 15,
     "metadata": {},
     "output_type": "execute_result"
    }
   ],
   "source": [
    "# Has the best result average and also best result for cable detection\n",
    "best_result, best_result_trial_id"
   ],
   "metadata": {
    "collapsed": false,
    "ExecuteTime": {
     "end_time": "2024-06-04T10:13:57.807134Z",
     "start_time": "2024-06-04T10:13:57.794962Z"
    }
   }
  }
 ],
 "metadata": {
  "kernelspec": {
   "display_name": "Python 3",
   "language": "python",
   "name": "python3"
  },
  "language_info": {
   "codemirror_mode": {
    "name": "ipython",
    "version": 2
   },
   "file_extension": ".py",
   "mimetype": "text/x-python",
   "name": "python",
   "nbconvert_exporter": "python",
   "pygments_lexer": "ipython2",
   "version": "2.7.6"
  }
 },
 "nbformat": 4,
 "nbformat_minor": 0
}
