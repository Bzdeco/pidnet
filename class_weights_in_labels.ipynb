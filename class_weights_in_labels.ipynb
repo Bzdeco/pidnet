{
 "cells": [
  {
   "cell_type": "code",
   "execution_count": 1,
   "metadata": {
    "ExecuteTime": {
     "end_time": "2024-04-22T15:22:35.242620Z",
     "start_time": "2024-04-22T15:22:34.818240Z"
    }
   },
   "outputs": [],
   "source": [
    "%load_ext autoreload\n",
    "%autoreload 2\n",
    "\n",
    "import sys\n",
    "sys.path.append(\"/scratch/cvlab/home/gwizdala/code/pidnet\")"
   ]
  },
  {
   "cell_type": "code",
   "execution_count": 10,
   "metadata": {
    "ExecuteTime": {
     "end_time": "2024-04-22T15:26:08.186029Z",
     "start_time": "2024-04-22T15:26:08.053359Z"
    },
    "collapsed": false,
    "jupyter": {
     "outputs_hidden": false
    }
   },
   "outputs": [],
   "source": [
    "import numpy as np\n",
    "import torch\n",
    "\n",
    "from functools import reduce\n",
    "from pathlib import Path\n",
    "\n",
    "from powerlines.utils import load_yaml\n",
    "\n",
    "folds = load_yaml(Path(\"configs/powerlines/folds.yaml\"))\n",
    "timestamps = set(reduce(lambda a, b: a + b, folds.values(), []))\n",
    "\n",
    "cables_distance_masks_folder = Path(\n",
    "    \"/scratch/cvlab/home/gwizdala/dataset/processed/daedalean/complete_frames/distance_masks/visible\"\n",
    ")\n",
    "poles_distance_masks_folder = Path(\n",
    "    \"/scratch/cvlab/home/gwizdala/dataset/processed/daedalean/complete_frames/poles_distance_masks\"\n",
    ")\n",
    "\n",
    "cable_filepaths = list(filter(lambda path: int(path.stem) in timestamps, cables_distance_masks_folder.glob(\"*.npy\")))\n",
    "poles_filepaths = list(filter(lambda path: int(path.stem) in timestamps, poles_distance_masks_folder.glob(\"*.npy\")))\n",
    "assert len(cable_filepaths) == len(poles_filepaths)"
   ]
  },
  {
   "cell_type": "code",
   "execution_count": 13,
   "metadata": {
    "collapsed": false,
    "jupyter": {
     "outputs_hidden": false
    }
   },
   "outputs": [],
   "source": [
    "from tqdm import tqdm\n",
    "\n",
    "from powerlines.data.utils import downsample_labels\n",
    "\n",
    "frame_size = 187 * 256  # downsampled 16x shape"
   ]
  },
  {
   "cell_type": "code",
   "execution_count": 15,
   "metadata": {
    "collapsed": false,
    "jupyter": {
     "outputs_hidden": false
    }
   },
   "outputs": [
    {
     "name": "stderr",
     "output_type": "stream",
     "text": [
      "100%|██████████| 865/865 [03:48<00:00,  3.78it/s]\n"
     ]
    },
    {
     "name": "stdout",
     "output_type": "stream",
     "text": [
      "--- Max cells away: 1 ---\n",
      "Cables frequency: 0.011903128960464901\n",
      "Cables weight: 84.01152363562589\n",
      "Background weight: 1.0120465202444595\n"
     ]
    },
    {
     "name": "stderr",
     "output_type": "stream",
     "text": [
      "100%|██████████| 865/865 [03:46<00:00,  3.82it/s]\n"
     ]
    },
    {
     "name": "stdout",
     "output_type": "stream",
     "text": [
      "--- Max cells away: 4 ---\n",
      "Cables frequency: 0.04162001850792866\n",
      "Cables weight: 24.026899454874076\n",
      "Background weight: 1.0434274706397058\n"
     ]
    },
    {
     "name": "stderr",
     "output_type": "stream",
     "text": [
      "100%|██████████| 865/865 [03:39<00:00,  3.94it/s]"
     ]
    },
    {
     "name": "stdout",
     "output_type": "stream",
     "text": [
      "--- Max cells away: 8 ---\n",
      "Cables frequency: 0.09412081060090878\n",
      "Cables weight: 10.624642877760602\n",
      "Background weight: 1.1038999589595861\n"
     ]
    },
    {
     "name": "stderr",
     "output_type": "stream",
     "text": [
      "\n"
     ]
    }
   ],
   "source": [
    "from powerlines.data.utils import nevbw_labels_from_distance_mask\n",
    "\n",
    "# Cable frequency\n",
    "total_pos_count = 0\n",
    "for max_cells_away in [1, 4, 8]:\n",
    "    for filepath in tqdm(cable_filepaths):\n",
    "        cables_distance_mask = np.load(str(filepath))\n",
    "        cables_label = nevbw_labels_from_distance_mask(cables_distance_mask, max_cells_away=max_cells_away)\n",
    "        downsampled_label = downsample_labels(\n",
    "            torch.from_numpy(cables_label).float(), grid_size=16, adjust_to_divisible=False\n",
    "        ).long().detach().cpu().numpy()\n",
    "\n",
    "        pos_count = np.count_nonzero(downsampled_label == 1)\n",
    "        total_pos_count += pos_count\n",
    "\n",
    "    pos_frequency = total_pos_count / (len(cable_filepaths) * frame_size)\n",
    "    neg_frequency = 1 - pos_frequency\n",
    "\n",
    "    print(f\"--- Max cells away: {max_cells_away} ---\")\n",
    "    print(f\"Cables frequency: {pos_frequency}\")\n",
    "    print(f\"Cables weight: {1 / pos_frequency}\")\n",
    "    print(f\"Background weight: {1 / neg_frequency}\")"
   ]
  },
  {
   "cell_type": "code",
   "execution_count": 16,
   "metadata": {},
   "outputs": [
    {
     "name": "stderr",
     "output_type": "stream",
     "text": [
      "100%|██████████| 865/865 [04:04<00:00,  3.54it/s]\n"
     ]
    },
    {
     "name": "stdout",
     "output_type": "stream",
     "text": [
      "--- Max cells away: 1\n",
      "Poles frequency: 0.0059538828011498875\n",
      "Poles weight: 167.95762251263454\n",
      "Background weight: 1.0059895438432247\n"
     ]
    },
    {
     "name": "stderr",
     "output_type": "stream",
     "text": [
      "100%|██████████| 865/865 [03:41<00:00,  3.91it/s]\n"
     ]
    },
    {
     "name": "stdout",
     "output_type": "stream",
     "text": [
      "--- Max cells away: 4\n",
      "Poles frequency: 0.028293150714042842\n",
      "Poles weight: 35.34424320949403\n",
      "Background weight: 1.029116961288102\n"
     ]
    },
    {
     "name": "stderr",
     "output_type": "stream",
     "text": [
      "100%|██████████| 865/865 [03:39<00:00,  3.94it/s]"
     ]
    },
    {
     "name": "stdout",
     "output_type": "stream",
     "text": [
      "--- Max cells away: 8\n",
      "Poles frequency: 0.07984698115977867\n",
      "Poles weight: 12.52395501338916\n",
      "Background weight: 1.0867757639489346\n"
     ]
    },
    {
     "name": "stderr",
     "output_type": "stream",
     "text": [
      "\n"
     ]
    }
   ],
   "source": [
    "# Poles frequency\n",
    "total_pos_count = 0\n",
    "for max_cells_away in [1, 4, 8]:\n",
    "    for filepath in tqdm(poles_filepaths):\n",
    "        poles_distance_mask = np.load(filepath)\n",
    "        poles_label = nevbw_labels_from_distance_mask(poles_distance_mask, max_cells_away=max_cells_away)\n",
    "        downsampled_poles_label = downsample_labels(\n",
    "            torch.from_numpy(poles_label).float(), grid_size=16, adjust_to_divisible=False\n",
    "        ).long().detach().cpu().numpy()\n",
    "\n",
    "        pos_count = np.count_nonzero(downsampled_poles_label == 1)\n",
    "        total_pos_count += pos_count\n",
    "\n",
    "    pos_frequency = total_pos_count / (len(poles_filepaths) * frame_size)\n",
    "    neg_frequency = 1 - pos_frequency\n",
    "\n",
    "    print(f\"--- Max cells away: {max_cells_away}\")\n",
    "    print(f\"Poles frequency: {pos_frequency}\")\n",
    "    print(f\"Poles weight: {1 / pos_frequency}\")\n",
    "    print(f\"Background weight: {1 / neg_frequency}\")"
   ]
  },
  {
   "cell_type": "code",
   "execution_count": null,
   "metadata": {},
   "outputs": [],
   "source": []
  }
 ],
 "metadata": {
  "kernelspec": {
   "display_name": "Python 3 (ipykernel)",
   "language": "python",
   "name": "python3"
  },
  "language_info": {
   "codemirror_mode": {
    "name": "ipython",
    "version": 3
   },
   "file_extension": ".py",
   "mimetype": "text/x-python",
   "name": "python",
   "nbconvert_exporter": "python",
   "pygments_lexer": "ipython3",
   "version": "3.8.10"
  }
 },
 "nbformat": 4,
 "nbformat_minor": 4
}
