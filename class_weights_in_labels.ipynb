{
 "cells": [
  {
   "cell_type": "code",
   "execution_count": 1,
   "metadata": {
    "ExecuteTime": {
     "end_time": "2024-04-22T15:22:35.242620Z",
     "start_time": "2024-04-22T15:22:34.818240Z"
    }
   },
   "outputs": [],
   "source": [
    "%load_ext autoreload\n",
    "%autoreload 2\n",
    "\n",
    "import sys\n",
    "sys.path.append(\"/scratch/cvlab/home/gwizdala/code/powerlines\")"
   ]
  },
  {
   "cell_type": "code",
   "execution_count": 2,
   "metadata": {
    "ExecuteTime": {
     "end_time": "2024-04-22T15:26:08.186029Z",
     "start_time": "2024-04-22T15:26:08.053359Z"
    },
    "collapsed": false,
    "jupyter": {
     "outputs_hidden": false
    }
   },
   "outputs": [],
   "source": [
    "import numpy as np\n",
    "import torch\n",
    "\n",
    "from functools import reduce\n",
    "from pathlib import Path\n",
    "\n",
    "from powerlines.utils import load_yaml\n",
    "\n",
    "folds = load_yaml(Path(\"../../configs/folds.yaml\"))\n",
    "timestamps = set(reduce(lambda a, b: a + b, folds.values(), []))\n",
    "\n",
    "labels_folder = Path(\"/scratch/cvlab/home/gwizdala/dataset/processed/daedalean/complete_frames/labels\")\n",
    "poles_distance_masks_folder = Path(\n",
    "    \"/scratch/cvlab/home/gwizdala/dataset/processed/daedalean/complete_frames/poles_distance_masks\"\n",
    ")\n",
    "\n",
    "cable_filepaths = list(filter(lambda path: int(path.stem) in timestamps, labels_folder.glob(\"*.png\")))\n",
    "poles_filepaths = list(filter(lambda path: int(path.stem) in timestamps, poles_distance_masks_folder.glob(\"*.npy\")))\n",
    "assert len(cable_filepaths) == len(poles_filepaths)"
   ]
  },
  {
   "cell_type": "code",
   "execution_count": 0,
   "metadata": {
    "collapsed": false,
    "jupyter": {
     "outputs_hidden": false
    }
   },
   "outputs": [],
   "source": [
    "from torch import nn\n",
    "from tqdm import tqdm\n",
    "\n",
    "from powerlines.data.utils import load_processed_label_image, downsample_labels\n",
    "\n",
    "downsampler = nn.MaxPool2d(kernel_size=2, stride=2).cuda()\n",
    "\n",
    "frame_size = 187 * 256  # downsampled 16x shape\n",
    "total_pos_count = 0"
   ]
  },
  {
   "cell_type": "code",
   "execution_count": 24,
   "outputs": [
    {
     "name": "stderr",
     "output_type": "stream",
     "text": [
      "100%|██████████| 865/865 [03:24<00:00,  4.23it/s]\n"
     ]
    }
   ],
   "source": [
    "# Cable frequency\n",
    "for filepath in tqdm(cable_filepaths):\n",
    "    label = load_processed_label_image(filepath)\n",
    "    downsampled_label = downsample_labels(\n",
    "        torch.from_numpy(label).unsqueeze(0).float(), grid_size=16, adjust_to_divisible=False\n",
    "    ).long().detach().cpu().numpy()\n",
    "\n",
    "    pos_count = np.count_nonzero(downsampled_label == 1)\n",
    "    total_pos_count += pos_count\n",
    "\n",
    "pos_frequency = total_pos_count / (len(cable_filepaths) * frame_size)\n",
    "neg_frequency = 1 - pos_frequency\n",
    "\n",
    "print(f\"Cables frequency: {pos_frequency}\")\n",
    "print(f\"Cables weight: {1 / pos_frequency}\")\n",
    "print(f\"Background weight: {1 / neg_frequency}\")"
   ],
   "metadata": {
    "collapsed": false
   }
  },
  {
   "cell_type": "code",
   "execution_count": 26,
   "metadata": {},
   "outputs": [
    {
     "name": "stdout",
     "output_type": "stream",
     "text": [
      "Cables frequency: 0.018272957172884918\n",
      "Cables weight: 54.72567962255673\n",
      "Background weight: 1.0186130730597618\n"
     ]
    }
   ],
   "source": [
    "from powerlines.data.utils import nevbw_labels_from_distance_mask\n",
    "\n",
    "# Poles frequency\n",
    "for filepath in tqdm(poles_filepaths):\n",
    "    poles_distance_mask = np.load(filepath)\n",
    "    poles_label = nevbw_labels_from_distance_mask(poles_distance_mask)\n",
    "    downsampled_poles_label = downsample_labels(\n",
    "        torch.from_numpy(poles_label).unsqueeze(0).float(), grid_size=16, adjust_to_divisible=False\n",
    "    ).long().detach().cpu().numpy()\n",
    "\n",
    "    pos_count = np.count_nonzero(downsampled_poles_label == 1)\n",
    "    total_pos_count += pos_count\n",
    "\n",
    "pos_frequency = total_pos_count / (len(poles_filepaths) * frame_size)\n",
    "neg_frequency = 1 - pos_frequency\n",
    "\n",
    "print(f\"Poles frequency: {pos_frequency}\")\n",
    "print(f\"Poles weight: {1 / pos_frequency}\")\n",
    "print(f\"Background weight: {1 / neg_frequency}\")"
   ]
  }
 ],
 "metadata": {
  "kernelspec": {
   "display_name": "Python 3 (ipykernel)",
   "language": "python",
   "name": "python3"
  },
  "language_info": {
   "codemirror_mode": {
    "name": "ipython",
    "version": 3
   },
   "file_extension": ".py",
   "mimetype": "text/x-python",
   "name": "python",
   "nbconvert_exporter": "python",
   "pygments_lexer": "ipython3",
   "version": "3.8.10"
  }
 },
 "nbformat": 4,
 "nbformat_minor": 4
}
