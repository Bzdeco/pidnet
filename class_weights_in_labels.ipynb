{
 "cells": [
  {
   "cell_type": "code",
   "execution_count": 1,
   "metadata": {
    "ExecuteTime": {
     "end_time": "2024-04-22T15:22:35.242620Z",
     "start_time": "2024-04-22T15:22:34.818240Z"
    }
   },
   "outputs": [],
   "source": [
    "%load_ext autoreload\n",
    "%autoreload 2\n",
    "\n",
    "import sys\n",
    "sys.path.append(\"/scratch/cvlab/home/gwizdala/code/pidnet\")"
   ]
  },
  {
   "cell_type": "code",
   "execution_count": 22,
   "metadata": {
    "ExecuteTime": {
     "end_time": "2024-04-22T15:26:08.186029Z",
     "start_time": "2024-04-22T15:26:08.053359Z"
    },
    "collapsed": false,
    "jupyter": {
     "outputs_hidden": false
    }
   },
   "outputs": [],
   "source": [
    "import numpy as np\n",
    "import torch\n",
    "\n",
    "from functools import reduce\n",
    "from pathlib import Path\n",
    "\n",
    "from powerlines.utils import load_yaml\n",
    "\n",
    "folds = load_yaml(Path(\"configs/powerlines/folds.yaml\"))\n",
    "timestamps = set(reduce(lambda a, b: a + b, folds.values(), []))\n",
    "\n",
    "labels_folder = Path(\"/scratch/cvlab/home/gwizdala/dataset/processed/daedalean/complete_frames/labels\")\n",
    "distance_masks_folder = Path(\n",
    "    \"/scratch/cvlab/home/gwizdala/dataset/processed/daedalean/complete_frames/distance_masks/visible\"\n",
    ")\n",
    "poles_distance_masks_folder = Path(\n",
    "    \"/scratch/cvlab/home/gwizdala/dataset/processed/daedalean/complete_frames/poles_distance_masks\"\n",
    ")\n",
    "\n",
    "cable_filepaths = list(filter(lambda path: int(path.stem) in timestamps, labels_folder.glob(\"*.png\")))\n",
    "cable_dist_mask_filepaths = list(filter(lambda path: int(path.stem) in timestamps, distance_masks_folder.glob(\"*.npy\")))\n",
    "poles_filepaths = list(filter(lambda path: int(path.stem) in timestamps, poles_distance_masks_folder.glob(\"*.npy\")))\n",
    "assert len(cable_filepaths) == len(poles_filepaths) == len(cable_dist_mask_filepaths)"
   ]
  },
  {
   "cell_type": "code",
   "execution_count": 23,
   "metadata": {
    "collapsed": false,
    "jupyter": {
     "outputs_hidden": false
    }
   },
   "outputs": [],
   "source": [
    "from torch import nn\n",
    "from tqdm import tqdm\n",
    "\n",
    "from powerlines.data.utils import load_processed_label_image, downsample_labels\n",
    "\n",
    "downsampler = nn.MaxPool2d(kernel_size=2, stride=2).cuda()\n",
    "\n",
    "downsample_factor = 32\n",
    "frame_size = int(3000 / downsample_factor) * int(4096 / downsample_factor)\n",
    "total_pos_count = 0"
   ]
  },
  {
   "cell_type": "code",
   "execution_count": 24,
   "metadata": {},
   "outputs": [],
   "source": [
    "max_pooling = nn.MaxPool2d(kernel_size=(downsample_factor, downsample_factor), stride=(downsample_factor, downsample_factor))\n",
    "\n",
    "def min_pooling(distance_mask: torch.Tensor):\n",
    "    # Assuming distance mask value is rescaled to [0, 1] range\n",
    "    inverted_distance_mask = 1 - distance_mask\n",
    "    pooled = max_pooling(inverted_distance_mask)\n",
    "    return 1 - pooled"
   ]
  },
  {
   "cell_type": "code",
   "execution_count": 29,
   "metadata": {
    "collapsed": false,
    "jupyter": {
     "outputs_hidden": false
    }
   },
   "outputs": [
    {
     "name": "stderr",
     "output_type": "stream",
     "text": [
      "100%|██████████| 865/865 [01:09<00:00, 12.52it/s]"
     ]
    },
    {
     "name": "stdout",
     "output_type": "stream",
     "text": [
      "Cables frequency: 0.04610059668096215\n",
      "Cables weight: 21.691693209970172\n",
      "Background weight: 1.048328572720098\n"
     ]
    },
    {
     "name": "stderr",
     "output_type": "stream",
     "text": [
      "\n"
     ]
    }
   ],
   "source": [
    "import numpy as np\n",
    "\n",
    "# Cable frequency\n",
    "total_cable_px = 0\n",
    "for filepath in tqdm(cable_dist_mask_filepaths):\n",
    "    # label = load_processed_label_image(filepath)\n",
    "    distance_mask = np.clip(np.load(filepath), a_min=0, a_max=128) / 128\n",
    "    \n",
    "    # downsampled_label = downsample_labels(\n",
    "    #     torch.from_numpy(label).unsqueeze(0).float(), grid_size=downsample_factor, adjust_to_divisible=False\n",
    "    # ).long().detach().cpu().numpy()\n",
    "    downsampled_dist_mask = min_pooling(torch.from_numpy(distance_mask).unsqueeze(0).float()).detach().cpu().numpy()\n",
    "\n",
    "    # pos_count = np.count_nonzero(downsampled_label == 1)\n",
    "    pos_count = np.count_nonzero(downsampled_dist_mask <= 0.25)\n",
    "    total_pos_count += pos_count\n",
    "\n",
    "pos_frequency = total_pos_count / (len(cable_filepaths) * frame_size)\n",
    "neg_frequency = 1 - pos_frequency\n",
    "\n",
    "print(f\"Cables frequency: {pos_frequency}\")\n",
    "print(f\"Cables weight: {1 / pos_frequency}\")\n",
    "print(f\"Background weight: {1 / neg_frequency}\")"
   ]
  },
  {
   "cell_type": "code",
   "execution_count": 30,
   "metadata": {},
   "outputs": [
    {
     "name": "stderr",
     "output_type": "stream",
     "text": [
      "100%|██████████| 865/865 [01:15<00:00, 11.51it/s]"
     ]
    },
    {
     "name": "stdout",
     "output_type": "stream",
     "text": [
      "Poles frequency: 0.06273103906395675\n",
      "Poles weight: 15.941071834956551\n",
      "Background weight: 1.0669296025777997\n"
     ]
    },
    {
     "name": "stderr",
     "output_type": "stream",
     "text": [
      "\n"
     ]
    }
   ],
   "source": [
    "from powerlines.data.utils import nevbw_labels_from_distance_mask\n",
    "\n",
    "# Poles frequency\n",
    "total_poles_px = 0\n",
    "for filepath in tqdm(poles_filepaths):\n",
    "    poles_distance_mask = np.clip(np.load(filepath), a_min=0, a_max=128) / 128\n",
    "    # poles_label = nevbw_labels_from_distance_mask(poles_distance_mask)\n",
    "    # downsampled_poles_label = downsample_labels(\n",
    "    #     torch.from_numpy(poles_label).float(), grid_size=downsample_factor, adjust_to_divisible=False\n",
    "    # ).long().detach().cpu().numpy()\n",
    "    downsampled_poles_dist_mask = min_pooling(torch.from_numpy(poles_distance_mask).unsqueeze(0).float()).detach().cpu().numpy()\n",
    "\n",
    "    # pos_count = np.count_nonzero(downsampled_poles_label == 1)\n",
    "    pos_count = np.count_nonzero(downsampled_poles_dist_mask <= 0.25)\n",
    "    total_pos_count += pos_count\n",
    "\n",
    "pos_frequency = total_pos_count / (len(poles_filepaths) * frame_size)\n",
    "neg_frequency = 1 - pos_frequency\n",
    "\n",
    "print(f\"Poles frequency: {pos_frequency}\")\n",
    "print(f\"Poles weight: {1 / pos_frequency}\")\n",
    "print(f\"Background weight: {1 / neg_frequency}\")"
   ]
  },
  {
   "cell_type": "code",
   "execution_count": null,
   "metadata": {},
   "outputs": [],
   "source": [
    "# Weights are virtually identical for 16x and 32x downsampled labels, both for cables and poles LABELS\n",
    "# In downsampled DISTANCE MASKS the 0-valued pixels are LESS frequent than in labels, both for cables and poles (see increased cables/poles weights)\n",
    "#  by 0.75% for poles and 0.3% for cables (when converting to frequency)\n",
    "# However, when thresholding distance masks with 0.25 the frequency of foreground more than doubles, both for for cables and poles"
   ]
  }
 ],
 "metadata": {
  "kernelspec": {
   "display_name": "Python 3 (ipykernel)",
   "language": "python",
   "name": "python3"
  },
  "language_info": {
   "codemirror_mode": {
    "name": "ipython",
    "version": 3
   },
   "file_extension": ".py",
   "mimetype": "text/x-python",
   "name": "python",
   "nbconvert_exporter": "python",
   "pygments_lexer": "ipython3",
   "version": "3.8.10"
  }
 },
 "nbformat": 4,
 "nbformat_minor": 4
}
