{
 "cells": [
  {
   "cell_type": "code",
   "execution_count": 1,
   "metadata": {
    "collapsed": true,
    "ExecuteTime": {
     "end_time": "2024-06-15T16:14:17.941405Z",
     "start_time": "2024-06-15T16:13:48.370928Z"
    }
   },
   "outputs": [
    {
     "name": "stdout",
     "output_type": "stream",
     "text": [
      "https://app.neptune.ai/jakubg/powerlines/e/POW-7059\n"
     ]
    }
   ],
   "source": [
    "from powerlines.hpo import fetch_run\n",
    "\n",
    "run = fetch_run(\"jakubg/powerlines\", 7059)"
   ]
  },
  {
   "cell_type": "code",
   "execution_count": 4,
   "outputs": [
    {
     "name": "stdout",
     "output_type": "stream",
     "text": [
      "104\n",
      "118\n"
     ]
    }
   ],
   "source": [
    "trials = run[\"trials\"].fetch()\n",
    "\n",
    "for trial_id, details in trials.items():\n",
    "    if details.get(\"result\", 0.0) >= 0.60:\n",
    "        print(trial_id)"
   ],
   "metadata": {
    "collapsed": false,
    "ExecuteTime": {
     "end_time": "2024-06-15T16:14:45.167120Z",
     "start_time": "2024-06-15T16:14:45.044855Z"
    }
   }
  },
  {
   "cell_type": "code",
   "execution_count": null,
   "outputs": [],
   "source": [],
   "metadata": {
    "collapsed": false
   }
  }
 ],
 "metadata": {
  "kernelspec": {
   "display_name": "Python 3",
   "language": "python",
   "name": "python3"
  },
  "language_info": {
   "codemirror_mode": {
    "name": "ipython",
    "version": 2
   },
   "file_extension": ".py",
   "mimetype": "text/x-python",
   "name": "python",
   "nbconvert_exporter": "python",
   "pygments_lexer": "ipython2",
   "version": "2.7.6"
  }
 },
 "nbformat": 4,
 "nbformat_minor": 0
}
