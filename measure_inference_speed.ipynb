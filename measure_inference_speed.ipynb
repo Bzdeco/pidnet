{
 "cells": [
  {
   "cell_type": "code",
   "execution_count": 1,
   "metadata": {
    "collapsed": false,
    "jupyter": {
     "outputs_hidden": false
    }
   },
   "outputs": [],
   "source": [
    "# Script from https://deci.ai/blog/measure-inference-time-deep-neural-networks/"
   ]
  },
  {
   "cell_type": "code",
   "execution_count": 6,
   "metadata": {
    "ExecuteTime": {
     "end_time": "2024-04-26T15:22:36.976526Z",
     "start_time": "2024-04-26T15:22:29.936752Z"
    }
   },
   "outputs": [
    {
     "name": "stdout",
     "output_type": "stream",
     "text": [
      "Loading pretrained model from pretrained_models/imagenet/PIDNet_S_ImageNet.pth.tar\n",
      "> loaded 302 parameters\n"
     ]
    }
   ],
   "source": [
    "import torch\n",
    "from tqdm import tqdm\n",
    "\n",
    "import models\n",
    "from utils.criterion import OhemCrossEntropy, BoundaryLoss\n",
    "from utils.utils import FullModel\n",
    "from configs import config\n",
    "\n",
    "# Build model\n",
    "num_layers = 5.125  # 5.125 for small, 6 for large, 7.334 for huge\n",
    "device = torch.device(\"cuda\")\n",
    "\n",
    "pidnet = models.pidnet.get_seg_model(config)  # creates a pretrained model by default\n",
    "semantic_seg_criterion = OhemCrossEntropy(\n",
    "    ignore_label=255,\n",
    "    thres=0.9,\n",
    "    min_kept=int(0.125 * (1024 ** 2)),\n",
    "    weight=torch.FloatTensor([1.0186, 54.7257])\n",
    ")\n",
    "bd_criterion = BoundaryLoss()\n",
    "model = FullModel(pidnet, semantic_seg_criterion, bd_criterion).model.cuda().eval()"
   ]
  },
  {
   "cell_type": "code",
   "execution_count": 7,
   "metadata": {
    "collapsed": false,
    "jupyter": {
     "outputs_hidden": false
    }
   },
   "outputs": [],
   "source": [
    "# Construct random test input\n",
    "input = torch.randn((1, 3, 3000, 4096), dtype=torch.float).to(device)\n",
    "\n",
    "# Timers\n",
    "starter, ender = torch.cuda.Event(enable_timing=True), torch.cuda.Event(enable_timing=True)\n",
    "repetitions = 1000\n",
    "warm_up_rounds = 10\n",
    "timings = torch.zeros((repetitions, 1))"
   ]
  },
  {
   "cell_type": "code",
   "execution_count": 8,
   "metadata": {
    "collapsed": false,
    "jupyter": {
     "outputs_hidden": false
    }
   },
   "outputs": [
    {
     "name": "stderr",
     "output_type": "stream",
     "text": [
      "Warm-up: 100%|██████████| 10/10 [00:00<00:00, 28.36it/s]\n",
      "Inference: 100%|██████████| 1000/1000 [00:45<00:00, 21.94it/s]\n"
     ]
    }
   ],
   "source": [
    "with torch.autocast(device_type=\"cuda\", dtype=torch.float16, enabled=True):\n",
    "    # GPU warm-up\n",
    "    for _ in tqdm(range(warm_up_rounds), desc=\"Warm-up\"):\n",
    "        _ = model(input)\n",
    "\n",
    "    # Measure inference time\n",
    "    with torch.no_grad():\n",
    "        for rep in tqdm(range(repetitions), desc=\"Inference\"):\n",
    "            starter.record()\n",
    "            _ = model(input)\n",
    "            ender.record()\n",
    "\n",
    "            # Synchronize GPU\n",
    "            torch.cuda.synchronize()\n",
    "            elapsed_time = starter.elapsed_time(ender)\n",
    "            timings[rep] = elapsed_time"
   ]
  },
  {
   "cell_type": "code",
   "execution_count": 9,
   "metadata": {
    "collapsed": false,
    "jupyter": {
     "outputs_hidden": false
    }
   },
   "outputs": [
    {
     "name": "stdout",
     "output_type": "stream",
     "text": [
      "Inference speed: 45.103 +- 0.050\n"
     ]
    }
   ],
   "source": [
    "# Compute inference time\n",
    "mean_syn = timings.mean()\n",
    "std_syn = timings.std()\n",
    "print(f\"Inference speed: {mean_syn:.3f} +- {std_syn:.3f}\")"
   ]
  },
  {
   "cell_type": "code",
   "execution_count": null,
   "metadata": {},
   "outputs": [],
   "source": []
  }
 ],
 "metadata": {
  "kernelspec": {
   "display_name": "Python 3 (ipykernel)",
   "language": "python",
   "name": "python3"
  },
  "language_info": {
   "codemirror_mode": {
    "name": "ipython",
    "version": 3
   },
   "file_extension": ".py",
   "mimetype": "text/x-python",
   "name": "python",
   "nbconvert_exporter": "python",
   "pygments_lexer": "ipython3",
   "version": "3.8.10"
  }
 },
 "nbformat": 4,
 "nbformat_minor": 4
}
