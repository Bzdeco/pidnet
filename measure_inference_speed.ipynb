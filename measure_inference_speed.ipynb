{
 "cells": [
  {
   "cell_type": "code",
   "execution_count": null,
   "outputs": [],
   "source": [
    "# Script from https://deci.ai/blog/measure-inference-time-deep-neural-networks/"
   ],
   "metadata": {
    "collapsed": false
   }
  },
  {
   "cell_type": "code",
   "execution_count": 1,
   "metadata": {
    "collapsed": true,
    "ExecuteTime": {
     "end_time": "2024-04-26T15:22:36.976526Z",
     "start_time": "2024-04-26T15:22:29.936752Z"
    }
   },
   "outputs": [
    {
     "name": "stderr",
     "output_type": "stream",
     "text": [
      "/Users/gwizdala/opt/anaconda3/envs/dl2/lib/python3.8/site-packages/torchvision/io/image.py:13: UserWarning: Failed to load image Python extension: 'dlopen(/Users/gwizdala/opt/anaconda3/envs/dl2/lib/python3.8/site-packages/torchvision/image.so, 0x0006): Symbol not found: __ZN3c106detail19maybe_wrap_dim_slowIxEET_S2_S2_b\n",
      "  Referenced from: <C0CD941A-7290-3098-8109-E3A1BBA30841> /Users/gwizdala/opt/anaconda3/envs/dl2/lib/python3.8/site-packages/torchvision/image.so\n",
      "  Expected in:     <408F81C0-C6C8-33EF-B02E-B683F7178A71> /Users/gwizdala/opt/anaconda3/envs/dl2/lib/python3.8/site-packages/torch/lib/libc10.dylib'If you don't plan on using image functionality from `torchvision.io`, you can ignore this warning. Otherwise, there might be something wrong with your environment. Did you have `libjpeg` or `libpng` installed before building `torchvision` from source?\n",
      "  warn(\n"
     ]
    }
   ],
   "source": [
    "import torch\n",
    "\n",
    "from model.complex.convnext_regressor import ConvNextRegressor\n",
    "\n",
    "# Build model\n",
    "num_layers = 5.125  # 5.125 for small, 6 for large, 7.334 for huge\n",
    "device = torch.device(\"cuda\")\n",
    "\n",
    "model = ConvNextRegressor(\n",
    "    pretrained=True,\n",
    "    num_layers=num_layers,\n",
    "    output_config={\n",
    "        \"type\": \"dual_dense\",\n",
    "        \"out_channels\": 1,\n",
    "        \"activation\": \"clamp\",\n",
    "        \"feature_map\": False,\n",
    "        \"max_distance_mask_value\": 128,\n",
    "        \"labels\": True,\n",
    "        \"labels_larger_threshold\": True\n",
    "    },\n",
    "    predicted_entity=\"distance_mask\",\n",
    "    patch_size=1024,\n",
    "    bayer_array_input=False,\n",
    "    freeze_encoder=False\n",
    ").to(device).eval()"
   ]
  },
  {
   "cell_type": "code",
   "execution_count": null,
   "outputs": [],
   "source": [
    "# Construct random test input\n",
    "input = torch.randn((1, 3, 3000, 4096), dtype=torch.float).to(device)\n",
    "\n",
    "# Timers\n",
    "starter, ender = torch.cuda.Event(enable_timing=True), torch.cuda.Event(enable_timing=True)\n",
    "repetitions = 1000\n",
    "warm_up_rounds = 10\n",
    "timings = torch.zeros((repetitions, 1))"
   ],
   "metadata": {
    "collapsed": false
   }
  },
  {
   "cell_type": "code",
   "execution_count": null,
   "outputs": [],
   "source": [
    "with torch.autocast(device_type=\"cuda\", dtype=torch.float16, enabled=True):\n",
    "    # GPU warm-up\n",
    "    for _ in range(warm_up_rounds):\n",
    "        _ = model(input)\n",
    "\n",
    "    # Measure inference time\n",
    "    with torch.no_grad():\n",
    "        for rep in range(repetitions):\n",
    "            starter.record()\n",
    "            _ = model(input)\n",
    "            ender.record()\n",
    "\n",
    "            # Synchronize GPU\n",
    "            torch.cuda.synchronize()\n",
    "            elapsed_time = starter.elapsed_time(ender)\n",
    "            timings[rep] = elapsed_time"
   ],
   "metadata": {
    "collapsed": false
   }
  },
  {
   "cell_type": "code",
   "execution_count": null,
   "outputs": [],
   "source": [
    "# Compute inference time\n",
    "mean_syn = timings.mean()\n",
    "std_syn = timings.std()\n",
    "print(f\"Inference speed: {mean_syn:.3f} +- {std_syn:.3f}\")"
   ],
   "metadata": {
    "collapsed": false
   }
  }
 ],
 "metadata": {
  "kernelspec": {
   "display_name": "Python 3",
   "language": "python",
   "name": "python3"
  },
  "language_info": {
   "codemirror_mode": {
    "name": "ipython",
    "version": 2
   },
   "file_extension": ".py",
   "mimetype": "text/x-python",
   "name": "python",
   "nbconvert_exporter": "python",
   "pygments_lexer": "ipython2",
   "version": "2.7.6"
  }
 },
 "nbformat": 4,
 "nbformat_minor": 0
}
