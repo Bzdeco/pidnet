{
 "cells": [
  {
   "cell_type": "code",
   "execution_count": 1,
   "outputs": [],
   "source": [
    "%load_ext autoreload\n",
    "%autoreload 2"
   ],
   "metadata": {
    "collapsed": false,
    "ExecuteTime": {
     "end_time": "2024-05-10T13:40:30.989749Z",
     "start_time": "2024-05-10T13:40:30.968771Z"
    }
   }
  },
  {
   "cell_type": "code",
   "execution_count": 2,
   "metadata": {
    "collapsed": true,
    "ExecuteTime": {
     "end_time": "2024-05-10T13:40:31.496778Z",
     "start_time": "2024-05-10T13:40:31.132437Z"
    }
   },
   "outputs": [],
   "source": [
    "from pathlib import Path\n",
    "\n",
    "checkpoint_filepath = Path(\"/Users/gwizdala/Documents/Data/pidnet_checkpoint.pt\")"
   ]
  },
  {
   "cell_type": "code",
   "execution_count": 4,
   "outputs": [],
   "source": [
    "import torch\n",
    "\n",
    "import models\n",
    "from utils.utils import FullModel\n",
    "from utils.criterion import OhemCrossEntropy, BoundaryLoss\n",
    "from configs import config\n",
    "\n",
    "semantic_seg_criterion = OhemCrossEntropy(\n",
    "    ignore_label=255,\n",
    "    thres=0.9,\n",
    "    min_kept=100,\n",
    "    weight=torch.tensor([1, 1])\n",
    ")\n",
    "bd_criterion = BoundaryLoss()\n",
    "\n",
    "scale_factor = 8 / 16  # 8 is the default downsampling done by PIDNet\n",
    "pidnet = models.pidnet.get_seg_model(config, pretrained=False)  # creates a pretrained model by default\n",
    "model = FullModel(pidnet, semantic_seg_criterion, bd_criterion)"
   ],
   "metadata": {
    "collapsed": false,
    "ExecuteTime": {
     "end_time": "2024-05-10T13:41:13.459008Z",
     "start_time": "2024-05-10T13:41:13.225102Z"
    }
   }
  },
  {
   "cell_type": "code",
   "execution_count": 5,
   "outputs": [
    {
     "data": {
      "text/plain": "<All keys matched successfully>"
     },
     "execution_count": 5,
     "metadata": {},
     "output_type": "execute_result"
    }
   ],
   "source": [
    "checkpoint = torch.load(checkpoint_filepath, map_location=torch.device(\"cpu\"))\n",
    "model.model.load_state_dict(checkpoint[\"state_dict\"])"
   ],
   "metadata": {
    "collapsed": false,
    "ExecuteTime": {
     "end_time": "2024-05-10T13:41:15.723562Z",
     "start_time": "2024-05-10T13:41:15.460722Z"
    }
   }
  },
  {
   "cell_type": "code",
   "execution_count": 9,
   "outputs": [
    {
     "data": {
      "text/plain": "tensor([[[[-0.0149,  0.9119],\n          [ 0.8195, -0.6933]],\n\n         [[ 0.0687,  0.0541],\n          [-0.5914, -0.4559]]],\n\n\n        [[[-0.0725,  0.2256],\n          [ 0.1174, -0.2572]],\n\n         [[-0.7448, -0.2600],\n          [ 0.0495, -0.4430]]]])"
     },
     "execution_count": 9,
     "metadata": {},
     "output_type": "execute_result"
    }
   ],
   "source": [
    "pidnet.downsample_main.weight.data"
   ],
   "metadata": {
    "collapsed": false,
    "ExecuteTime": {
     "end_time": "2024-05-10T13:41:56.917831Z",
     "start_time": "2024-05-10T13:41:56.870347Z"
    }
   }
  },
  {
   "cell_type": "code",
   "execution_count": 10,
   "outputs": [
    {
     "data": {
      "text/plain": "tensor([[[[-0.4301,  0.6881],\n          [ 0.5910, -0.0276]],\n\n         [[-0.2193, -0.0379],\n          [ 0.1633, -0.0193]]],\n\n\n        [[[-0.0076,  0.7279],\n          [ 0.7959,  0.5174]],\n\n         [[ 0.3119, -0.0996],\n          [-0.1274,  0.0975]]]])"
     },
     "execution_count": 10,
     "metadata": {},
     "output_type": "execute_result"
    }
   ],
   "source": [
    "pidnet.downsample_p.weight.data"
   ],
   "metadata": {
    "collapsed": false,
    "ExecuteTime": {
     "end_time": "2024-05-10T13:42:38.903704Z",
     "start_time": "2024-05-10T13:42:38.868875Z"
    }
   }
  },
  {
   "cell_type": "code",
   "execution_count": 11,
   "outputs": [
    {
     "data": {
      "text/plain": "tensor([[[[-1.3381, -0.2744],\n          [ 0.3966, -0.0905]]]])"
     },
     "execution_count": 11,
     "metadata": {},
     "output_type": "execute_result"
    }
   ],
   "source": [
    "pidnet.downsample_d.weight.data"
   ],
   "metadata": {
    "collapsed": false,
    "ExecuteTime": {
     "end_time": "2024-05-10T13:42:57.719314Z",
     "start_time": "2024-05-10T13:42:57.681680Z"
    }
   }
  },
  {
   "cell_type": "code",
   "execution_count": null,
   "outputs": [],
   "source": [],
   "metadata": {
    "collapsed": false
   }
  }
 ],
 "metadata": {
  "kernelspec": {
   "display_name": "Python 3",
   "language": "python",
   "name": "python3"
  },
  "language_info": {
   "codemirror_mode": {
    "name": "ipython",
    "version": 2
   },
   "file_extension": ".py",
   "mimetype": "text/x-python",
   "name": "python",
   "nbconvert_exporter": "python",
   "pygments_lexer": "ipython2",
   "version": "2.7.6"
  }
 },
 "nbformat": 4,
 "nbformat_minor": 0
}
